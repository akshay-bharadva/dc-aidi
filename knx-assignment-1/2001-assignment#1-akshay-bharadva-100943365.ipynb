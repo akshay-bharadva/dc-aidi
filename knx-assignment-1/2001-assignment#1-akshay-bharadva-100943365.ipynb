{
 "cells": [
  {
   "cell_type": "markdown",
   "metadata": {},
   "source": [
    "#### Importing libraries"
   ]
  },
  {
   "cell_type": "code",
   "execution_count": 2,
   "metadata": {},
   "outputs": [
    {
     "name": "stderr",
     "output_type": "stream",
     "text": [
      "c:\\Durham College\\AIDI\\Term 2\\202441.11553-AIDI-2001-01 - KNOWLEDGE AND EXP SYSTEMS\\assignment#1\\.venv\\lib\\site-packages\\tqdm\\auto.py:21: TqdmWarning: IProgress not found. Please update jupyter and ipywidgets. See https://ipywidgets.readthedocs.io/en/stable/user_install.html\n",
      "  from .autonotebook import tqdm as notebook_tqdm\n"
     ]
    }
   ],
   "source": [
    "import gradio as gr\n",
    "from transformers import pipeline\n",
    "from transformers import pipelines"
   ]
  },
  {
   "cell_type": "markdown",
   "metadata": {},
   "source": [
    "#### List of supported tasks"
   ]
  },
  {
   "cell_type": "code",
   "execution_count": 3,
   "metadata": {},
   "outputs": [
    {
     "name": "stdout",
     "output_type": "stream",
     "text": [
      "['audio-classification', 'automatic-speech-recognition', 'conversational', 'depth-estimation', 'document-question-answering', 'feature-extraction', 'fill-mask', 'image-classification', 'image-segmentation', 'image-to-image', 'image-to-text', 'mask-generation', 'ner', 'object-detection', 'question-answering', 'sentiment-analysis', 'summarization', 'table-question-answering', 'text-classification', 'text-generation', 'text-to-audio', 'text-to-speech', 'text2text-generation', 'token-classification', 'translation', 'video-classification', 'visual-question-answering', 'vqa', 'zero-shot-audio-classification', 'zero-shot-classification', 'zero-shot-image-classification', 'zero-shot-object-detection']\n"
     ]
    }
   ],
   "source": [
    "supported_tasks = pipelines.PIPELINE_REGISTRY.get_supported_tasks()\n",
    "print(supported_tasks)"
   ]
  },
  {
   "cell_type": "markdown",
   "metadata": {},
   "source": [
    "#### `text_computation` fn with `summarization` and `translation` pipline"
   ]
  },
  {
   "cell_type": "code",
   "execution_count": 7,
   "metadata": {},
   "outputs": [],
   "source": [
    "def text_computation(lang,text):\n",
    "  summarization_pipeline = pipeline(\"summarization\")\n",
    "  # summarization_pipeline = pipeline(\"summarization\", model=\"facebook/bart-large-cnn\")\n",
    "  summarized_text = summarization_pipeline(text, max_length=300, min_length=100)\n",
    "  print(\"summarized_text\",summarized_text)\n",
    "  summarized_text = summarized_text[0][\"summary_text\"]\n",
    "  \n",
    "  translation_pipeline = pipeline(\"translation_en_to_fr\")\n",
    "  # translation_pipeline = pipeline(\"translation\", model=\"Helsinki-NLP/opus-mt-en-fr\")\n",
    "  if not lang == \"English\":\n",
    "    traslated_text = translation_pipeline(summarized_text)\n",
    "    traslated_text = traslated_text[0][\"translation_text\"]\n",
    "    return traslated_text\n",
    "  \n",
    "  return summarized_text"
   ]
  },
  {
   "cell_type": "markdown",
   "metadata": {},
   "source": [
    "#### Building gradio interface"
   ]
  },
  {
   "cell_type": "code",
   "execution_count": 8,
   "metadata": {},
   "outputs": [],
   "source": [
    "gradio_application = gr.Interface(\n",
    "  fn=text_computation,\n",
    "  inputs=[\n",
    "  gr.Dropdown([\"English\", \"French\"], label=\"Language\"),\n",
    "  gr.TextArea(label=\"Enter text for Summary\")\n",
    "  ],\n",
    "  outputs=[gr.TextArea(label=\"Summarized content\")],\n",
    "  title=\"English/French Text Summarization\",\n",
    ")"
   ]
  },
  {
   "cell_type": "code",
   "execution_count": 9,
   "metadata": {},
   "outputs": [
    {
     "name": "stdout",
     "output_type": "stream",
     "text": [
      "Running on local URL:  http://127.0.0.1:7861\n",
      "\n",
      "To create a public link, set `share=True` in `launch()`.\n"
     ]
    },
    {
     "data": {
      "text/html": [
       "<div><iframe src=\"http://127.0.0.1:7861/\" width=\"100%\" height=\"500\" allow=\"autoplay; camera; microphone; clipboard-read; clipboard-write;\" frameborder=\"0\" allowfullscreen></iframe></div>"
      ],
      "text/plain": [
       "<IPython.core.display.HTML object>"
      ]
     },
     "metadata": {},
     "output_type": "display_data"
    },
    {
     "data": {
      "text/plain": []
     },
     "execution_count": 9,
     "metadata": {},
     "output_type": "execute_result"
    }
   ],
   "source": [
    "gradio_application.launch()"
   ]
  },
  {
   "cell_type": "code",
   "execution_count": null,
   "metadata": {},
   "outputs": [],
   "source": []
  }
 ],
 "metadata": {
  "kernelspec": {
   "display_name": ".venv",
   "language": "python",
   "name": "python3"
  },
  "language_info": {
   "codemirror_mode": {
    "name": "ipython",
    "version": 3
   },
   "file_extension": ".py",
   "mimetype": "text/x-python",
   "name": "python",
   "nbconvert_exporter": "python",
   "pygments_lexer": "ipython3",
   "version": "3.9.0"
  }
 },
 "nbformat": 4,
 "nbformat_minor": 2
}
