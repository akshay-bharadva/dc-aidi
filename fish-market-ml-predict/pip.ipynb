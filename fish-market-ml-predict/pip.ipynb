{
 "cells": [
  {
   "cell_type": "code",
   "execution_count": 2,
   "metadata": {},
   "outputs": [
    {
     "name": "stdout",
     "output_type": "stream",
     "text": [
      "Collecting Flask\n",
      "  Using cached flask-3.0.2-py3-none-any.whl.metadata (3.6 kB)\n",
      "Requirement already satisfied: pandas in c:\\durham college\\aidi\\term 2\\202441.11562-aidi-2004-01 - ai in enterprise systems\\lab#4\\.venv\\lib\\site-packages (2.2.1)\n",
      "Requirement already satisfied: scikit-learn in c:\\durham college\\aidi\\term 2\\202441.11562-aidi-2004-01 - ai in enterprise systems\\lab#4\\.venv\\lib\\site-packages (1.4.1.post1)\n",
      "Requirement already satisfied: Werkzeug>=3.0.0 in c:\\durham college\\aidi\\term 2\\202441.11562-aidi-2004-01 - ai in enterprise systems\\lab#4\\.venv\\lib\\site-packages (from Flask) (3.0.1)\n",
      "Requirement already satisfied: Jinja2>=3.1.2 in c:\\durham college\\aidi\\term 2\\202441.11562-aidi-2004-01 - ai in enterprise systems\\lab#4\\.venv\\lib\\site-packages (from Flask) (3.1.3)\n",
      "Requirement already satisfied: itsdangerous>=2.1.2 in c:\\durham college\\aidi\\term 2\\202441.11562-aidi-2004-01 - ai in enterprise systems\\lab#4\\.venv\\lib\\site-packages (from Flask) (2.1.2)\n",
      "Requirement already satisfied: click>=8.1.3 in c:\\durham college\\aidi\\term 2\\202441.11562-aidi-2004-01 - ai in enterprise systems\\lab#4\\.venv\\lib\\site-packages (from Flask) (8.1.7)\n",
      "Requirement already satisfied: blinker>=1.6.2 in c:\\durham college\\aidi\\term 2\\202441.11562-aidi-2004-01 - ai in enterprise systems\\lab#4\\.venv\\lib\\site-packages (from Flask) (1.7.0)\n",
      "Requirement already satisfied: numpy<2,>=1.23.2 in c:\\durham college\\aidi\\term 2\\202441.11562-aidi-2004-01 - ai in enterprise systems\\lab#4\\.venv\\lib\\site-packages (from pandas) (1.26.4)\n",
      "Requirement already satisfied: python-dateutil>=2.8.2 in c:\\durham college\\aidi\\term 2\\202441.11562-aidi-2004-01 - ai in enterprise systems\\lab#4\\.venv\\lib\\site-packages (from pandas) (2.9.0.post0)\n",
      "Requirement already satisfied: pytz>=2020.1 in c:\\durham college\\aidi\\term 2\\202441.11562-aidi-2004-01 - ai in enterprise systems\\lab#4\\.venv\\lib\\site-packages (from pandas) (2024.1)\n",
      "Requirement already satisfied: tzdata>=2022.7 in c:\\durham college\\aidi\\term 2\\202441.11562-aidi-2004-01 - ai in enterprise systems\\lab#4\\.venv\\lib\\site-packages (from pandas) (2024.1)\n",
      "Requirement already satisfied: scipy>=1.6.0 in c:\\durham college\\aidi\\term 2\\202441.11562-aidi-2004-01 - ai in enterprise systems\\lab#4\\.venv\\lib\\site-packages (from scikit-learn) (1.12.0)\n",
      "Requirement already satisfied: joblib>=1.2.0 in c:\\durham college\\aidi\\term 2\\202441.11562-aidi-2004-01 - ai in enterprise systems\\lab#4\\.venv\\lib\\site-packages (from scikit-learn) (1.3.2)\n",
      "Requirement already satisfied: threadpoolctl>=2.0.0 in c:\\durham college\\aidi\\term 2\\202441.11562-aidi-2004-01 - ai in enterprise systems\\lab#4\\.venv\\lib\\site-packages (from scikit-learn) (3.3.0)\n",
      "Requirement already satisfied: colorama in c:\\durham college\\aidi\\term 2\\202441.11562-aidi-2004-01 - ai in enterprise systems\\lab#4\\.venv\\lib\\site-packages (from click>=8.1.3->Flask) (0.4.6)\n",
      "Requirement already satisfied: MarkupSafe>=2.0 in c:\\durham college\\aidi\\term 2\\202441.11562-aidi-2004-01 - ai in enterprise systems\\lab#4\\.venv\\lib\\site-packages (from Jinja2>=3.1.2->Flask) (2.1.5)\n",
      "Requirement already satisfied: six>=1.5 in c:\\durham college\\aidi\\term 2\\202441.11562-aidi-2004-01 - ai in enterprise systems\\lab#4\\.venv\\lib\\site-packages (from python-dateutil>=2.8.2->pandas) (1.16.0)\n",
      "Using cached flask-3.0.2-py3-none-any.whl (101 kB)\n",
      "Installing collected packages: Flask\n",
      "Successfully installed Flask-3.0.2\n",
      "Note: you may need to restart the kernel to use updated packages.\n"
     ]
    }
   ],
   "source": [
    "pip install Flask pandas scikit-learn joblib"
   ]
  }
 ],
 "metadata": {
  "kernelspec": {
   "display_name": ".venv",
   "language": "python",
   "name": "python3"
  },
  "language_info": {
   "codemirror_mode": {
    "name": "ipython",
    "version": 3
   },
   "file_extension": ".py",
   "mimetype": "text/x-python",
   "name": "python",
   "nbconvert_exporter": "python",
   "pygments_lexer": "ipython3",
   "version": "3.11.5"
  }
 },
 "nbformat": 4,
 "nbformat_minor": 2
}
